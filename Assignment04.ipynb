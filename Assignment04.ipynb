{
 "cells": [
  {
   "cell_type": "markdown",
   "metadata": {},
   "source": [
    "* Name : Joonyoung-Choi\n",
    "* Student ID: 20112096\n",
    "* Description: import k-means algorithm to MNIST test data set\n",
    "* github: https://github.com/mydream757/Computer_Vision"
   ]
  },
  {
   "cell_type": "markdown",
   "metadata": {},
   "source": [
    "1. Import liabraries and define class"
   ]
  },
  {
   "cell_type": "markdown",
   "metadata": {},
   "source": [
    "* import needed libraries and define the global variables"
   ]
  },
  {
   "cell_type": "code",
   "execution_count": 1,
   "metadata": {},
   "outputs": [],
   "source": [
    "import matplotlib.pyplot as plt\n",
    "import random\n",
    "import numpy as np\n",
    "size_row = 28\n",
    "size_col = 28"
   ]
  },
  {
   "cell_type": "code",
   "execution_count": 2,
   "metadata": {},
   "outputs": [],
   "source": [
    "#normalize data\n",
    "def normalize(data):\n",
    "    normalized = (data - min(data)) / (max(data)-min(data))\n",
    "\n",
    "    return normalized\n",
    "\n",
    "#calculate distance\n",
    "def distance(x,y):\n",
    "    d = (x - y)**2\n",
    "    s = np.sum(d)\n",
    "\n",
    "    return s"
   ]
  },
  {
   "cell_type": "markdown",
   "metadata": {},
   "source": [
    "* choose initial centroids from given data set."
   ]
  },
  {
   "cell_type": "code",
   "execution_count": 3,
   "metadata": {},
   "outputs": [],
   "source": [
    "#get initial centroids from data set\n",
    "def chooseCentroid(list_image,list_label,numOfk):\n",
    "    list_centroid =np.empty((size_row*size_col, numOfk), dtype=float)\n",
    "    list_centroidLabel = np.empty(numOfk,dtype=int)\n",
    "\n",
    "    rand_num = random.randint(0,len(list_label)-1)\n",
    "    for i in range(numOfk):\n",
    "        random.seed()\n",
    "        while list_label[rand_num] in list_centroidLabel:\n",
    "            rand_num = random.randint(0,len(list_label)-1)\n",
    "        list_centroidLabel[i] = list_label[rand_num]\n",
    "        list_centroid[:,i] = list_image[:,rand_num]\n",
    "\n",
    "    return [list_centroid, list_centroidLabel]"
   ]
  },
  {
   "cell_type": "markdown",
   "metadata": {},
   "source": [
    "* compute accuaracy when k = 10."
   ]
  },
  {
   "cell_type": "code",
   "execution_count": 20,
   "metadata": {},
   "outputs": [],
   "source": [
    "#when k=10, compute accuracy\n",
    "def computeAccuracy(list_label,list_clabel):\n",
    "    num = len(list_label)\n",
    "    count = 0 \n",
    "    for i in range(num):\n",
    "        if list_label[i]==list_clabel[i]:\n",
    "            count +=1\n",
    "\n",
    "    accuracy = (count/num)*100\n",
    "    return accuracy"
   ]
  },
  {
   "cell_type": "markdown",
   "metadata": {},
   "source": [
    "* compute energy per iteration. $E = \\sum_{k=1}^{K} \\sum_{n=1}^{N}r_{nk}\\Vert{X_n}-{c_k}\\Vert^2$"
   ]
  },
  {
   "cell_type": "code",
   "execution_count": 5,
   "metadata": {},
   "outputs": [],
   "source": [
    "def computeEnergy(list_image, list_centroid,list_clabel,list_centroidLabel):\n",
    "    energy = 0\n",
    "    for i in range(len(list_clabel)):\n",
    "        for k in range(len(list_centroidLabel)):\n",
    "            if list_clabel[i] == list_centroidLabel[k]:\n",
    "                energy += distance(list_image[:,i],list_centroid[:,k])\n",
    "    return energy"
   ]
  },
  {
   "cell_type": "markdown",
   "metadata": {},
   "source": [
    "* change label on images's label list."
   ]
  },
  {
   "cell_type": "code",
   "execution_count": 6,
   "metadata": {},
   "outputs": [],
   "source": [
    "def assignLabel(list_image,list_clabel,list_centroid,list_centroidLabel):\n",
    "    for i in range(len(list_clabel)):\n",
    "        result = distance(list_image[:,i],list_centroid[:,0])\n",
    "        list_clabel[i] = list_centroidLabel[0]\n",
    "        for k in range(len(list_centroidLabel)):\n",
    "            tmp = distance(list_image[:,i],list_centroid[:,k])\n",
    "            if result > tmp:\n",
    "                result = tmp\n",
    "                list_clabel[i] = list_centroidLabel[k]"
   ]
  },
  {
   "cell_type": "markdown",
   "metadata": {},
   "source": [
    "* this is used for checking the loop condition"
   ]
  },
  {
   "cell_type": "code",
   "execution_count": 7,
   "metadata": {},
   "outputs": [],
   "source": [
    "def makeLabelList(list_clabel):\n",
    "    list = np.empty(len(list_clabel),dtype=int)\n",
    "    for i in range(len(list_clabel)):\n",
    "        list[i] = list_clabel[i]\n",
    "    return list"
   ]
  },
  {
   "cell_type": "markdown",
   "metadata": {},
   "source": [
    "* compute and return the centroids."
   ]
  },
  {
   "cell_type": "code",
   "execution_count": 8,
   "metadata": {},
   "outputs": [],
   "source": [
    "def computeCentroid(list_image,list_clabel,list_centroidLabel):\n",
    "    im_average  = np.zeros((size_row * size_col, len(list_clabel)), dtype=float)\n",
    "    im_count    = np.zeros(len(list_clabel), dtype=int)\n",
    "\n",
    "    for i in range(len(list_clabel)):\n",
    "        for k in range(len(list_centroidLabel)):\n",
    "            if list_clabel[i] == list_centroidLabel[k]:\n",
    "                im_average[:, k] += list_image[:, i]\n",
    "                im_count[k] += 1\n",
    "\n",
    "    for i in range(len(list_centroidLabel)):\n",
    "        im_average[:, i] /= im_count[i]\n",
    "\n",
    "    return im_average"
   ]
  },
  {
   "cell_type": "markdown",
   "metadata": {},
   "source": [
    "* check the loop condition by label lists."
   ]
  },
  {
   "cell_type": "code",
   "execution_count": 9,
   "metadata": {},
   "outputs": [],
   "source": [
    "def conditionCheck(before_label,after_label):\n",
    "    for i in range(len(before_label)):\n",
    "        if before_label[i] != after_label[i]:\n",
    "            return True\n",
    "    return False"
   ]
  },
  {
   "cell_type": "markdown",
   "metadata": {},
   "source": [
    "2. Main function of K-means algorithm."
   ]
  },
  {
   "cell_type": "markdown",
   "metadata": {},
   "source": [
    "* this is the main function of k-means algorithm. "
   ]
  },
  {
   "cell_type": "code",
   "execution_count": 22,
   "metadata": {},
   "outputs": [],
   "source": [
    "# start of k = 2, end of k = 10\n",
    "def k_means(k):\n",
    "    count = 0\n",
    "    \n",
    "    #get data from .csv file\n",
    "    file_data = \"mnist_test.csv\"\n",
    "    handle_file = open(file_data, \"r\")\n",
    "    data = handle_file.readlines()\n",
    "    num_image = len(data)\n",
    "    handle_file.close()\n",
    "    #generate lists of image and (true) labels\n",
    "    list_image  = np.empty((size_row * size_col, num_image), dtype=float)\n",
    "    list_label  = np.empty(num_image, dtype=int)\n",
    "    \n",
    "    # split data into list\n",
    "    for line in data:\n",
    "        line_data = line.split(',')\n",
    "        label = line_data[0]\n",
    "        im_vector = np.asfarray(line_data[1:])\n",
    "        im_vector = normalize(im_vector)\n",
    "\n",
    "        list_label[count] = label\n",
    "        list_image[:,count] = im_vector\n",
    "        count += 1\n",
    "\n",
    "    #generate list of centroid (clustering)label\n",
    "    list_clabel = np.empty(num_image, dtype=int)\n",
    "    #choose initial centroids and generate centroid label list\n",
    "    list_centroid,list_centroidLabel = chooseCentroid(list_image,list_label,k)  \n",
    "    \n",
    "    #initial centroids show\n",
    "    f1 = plt.figure()\n",
    "    for i in range(k):\n",
    "\n",
    "        label       = list_centroidLabel[i]\n",
    "        im_vector   = list_centroid[:, i]\n",
    "        im_matrix   = im_vector.reshape((size_row, size_col))   \n",
    "\n",
    "        plt.subplot(1, 10, i+1)       \n",
    "        plt.title(label)\n",
    "        plt.imshow(im_matrix, cmap='Greys',interpolation='None')  \n",
    "\n",
    "        frame   = plt.gca()             \n",
    "        frame.axes.get_xaxis().set_visible(False)\n",
    "        frame.axes.get_yaxis().set_visible(False)\n",
    "    plt.show()\n",
    "    #get label list for condition check\n",
    "    before = makeLabelList(list_clabel)\n",
    "    #assign labels\n",
    "    assignLabel(list_image,list_clabel,list_centroid,list_centroidLabel)\n",
    "    #get label list for condition check\n",
    "    after = makeLabelList(list_clabel)\n",
    "    \n",
    "    iterCount = 0\n",
    "    #if before list and after list is same, stop loop\n",
    "    while conditionCheck(before,after)==True :\n",
    "        #update before list\n",
    "        before = after\n",
    "        #compute new centroids from changed labels\n",
    "        list_centroid = computeCentroid(list_image,list_clabel,list_centroidLabel)\n",
    "        #by the new centroids, change the labels\n",
    "        assignLabel(list_image,list_clabel,list_centroid,list_centroidLabel)\n",
    "        after = makeLabelList(list_clabel)\n",
    "        \n",
    "        #compute energy at this iteration\n",
    "        energy = computeEnergy(list_image, list_centroid,list_clabel,list_centroidLabel)\n",
    "        iterCount += 1\n",
    "        print(\"Iter: \",iterCount,\" & Energy: \",energy)\n",
    "\n",
    "    im_average  = np.zeros((size_row * size_col, k), dtype=float)\n",
    "    im_count    = np.zeros(k, dtype=int)\n",
    "\n",
    "    f2 = plt.figure(2)\n",
    "    for i in range(len(list_centroidLabel)):\n",
    "\n",
    "        plt.subplot(1, 10, i+1)\n",
    "        plt.title(list_centroidLabel[i])\n",
    "        plt.imshow(list_centroid[:,i].reshape((size_row, size_col)), cmap='Greys')\n",
    "\n",
    "        frame   = plt.gca()\n",
    "        frame.axes.get_xaxis().set_visible(False)\n",
    "        frame.axes.get_yaxis().set_visible(False)\n",
    "    plt.show()\n",
    "    #if k=10, compute accuracy and show\n",
    "    if k==10:\n",
    "        accuracy = computeAccuracy(list_label,list_clabel)\n",
    "        print(\"accuracy: \",accuracy)"
   ]
  },
  {
   "cell_type": "markdown",
   "metadata": {},
   "source": [
    "3. Results"
   ]
  },
  {
   "cell_type": "markdown",
   "metadata": {},
   "source": [
    "This program doesn't make centroids. this just choose random units from data set."
   ]
  },
  {
   "cell_type": "markdown",
   "metadata": {},
   "source": [
    "* the start of k is '2'"
   ]
  },
  {
   "cell_type": "code",
   "execution_count": 11,
   "metadata": {},
   "outputs": [
    {
     "data": {
      "image/png": "[encoded data removed]",
      "text/plain": [
       "<Figure size 432x288 with 2 Axes>"
      ]
     },
     "metadata": {},
     "output_type": "display_data"
    },
    {
     "name": "stdout",
     "output_type": "stream",
     "text": [
      "Iter:  1  & Energy:  498803.87242124154\n",
      "Iter:  2  & Energy:  495760.2432725557\n",
      "Iter:  3  & Energy:  494454.45303971885\n",
      "Iter:  4  & Energy:  493809.8769836099\n",
      "Iter:  5  & Energy:  493432.1199801324\n",
      "Iter:  6  & Energy:  493241.46199379634\n",
      "Iter:  7  & Energy:  493153.3454539614\n",
      "Iter:  8  & Energy:  493121.1677338114\n",
      "Iter:  9  & Energy:  493113.5369395657\n",
      "Iter:  10  & Energy:  493108.2841998108\n",
      "Iter:  11  & Energy:  493104.95829513005\n",
      "Iter:  12  & Energy:  493103.94312557427\n",
      "Iter:  13  & Energy:  493103.5465340409\n",
      "Iter:  14  & Energy:  493103.2746975684\n",
      "Iter:  15  & Energy:  493103.21124978334\n",
      "Iter:  16  & Energy:  493103.18680798414\n"
     ]
    },
    {
     "data": {
      "image/png": "[encoded data removed]",
      "text/plain": [
       "<Figure size 432x288 with 2 Axes>"
      ]
     },
     "metadata": {},
     "output_type": "display_data"
    }
   ],
   "source": [
    "k_means(2)"
   ]
  },
  {
   "cell_type": "markdown",
   "metadata": {},
   "source": [
    "The result is hard to recognize."
   ]
  },
  {
   "cell_type": "code",
   "execution_count": 12,
   "metadata": {},
   "outputs": [
    {
     "data": {
      "image/png": "[encoded data removed]",
      "text/plain": [
       "<Figure size 432x288 with 3 Axes>"
      ]
     },
     "metadata": {},
     "output_type": "display_data"
    },
    {
     "name": "stdout",
     "output_type": "stream",
     "text": [
      "Iter:  1  & Energy:  485780.63758017117\n",
      "Iter:  2  & Energy:  476037.1417951543\n",
      "Iter:  3  & Energy:  472984.177666077\n",
      "Iter:  4  & Energy:  472183.1075374662\n",
      "Iter:  5  & Energy:  472023.83686686074\n",
      "Iter:  6  & Energy:  471981.32366304693\n",
      "Iter:  7  & Energy:  471968.27806577255\n",
      "Iter:  8  & Energy:  471960.35407858784\n",
      "Iter:  9  & Energy:  471952.9335702368\n",
      "Iter:  10  & Energy:  471949.8696635349\n",
      "Iter:  11  & Energy:  471948.8386487071\n",
      "Iter:  12  & Energy:  471947.76788445236\n",
      "Iter:  13  & Energy:  471946.37670752616\n",
      "Iter:  14  & Energy:  471945.2041845023\n",
      "Iter:  15  & Energy:  471944.7417612958\n",
      "Iter:  16  & Energy:  471944.58707147324\n",
      "Iter:  17  & Energy:  471944.2223717432\n",
      "Iter:  18  & Energy:  471943.8715299087\n",
      "Iter:  19  & Energy:  471943.73988533195\n",
      "Iter:  20  & Energy:  471943.6994516185\n"
     ]
    },
    {
     "data": {
      "image/png": "[encoded data removed]",
      "text/plain": [
       "<Figure size 432x288 with 3 Axes>"
      ]
     },
     "metadata": {},
     "output_type": "display_data"
    }
   ],
   "source": [
    "k_means(3)"
   ]
  },
  {
   "cell_type": "code",
   "execution_count": 13,
   "metadata": {},
   "outputs": [
    {
     "data": {
      "image/png": "[encoded data removed]",
      "text/plain": [
       "<Figure size 432x288 with 4 Axes>"
      ]
     },
     "metadata": {},
     "output_type": "display_data"
    },
    {
     "name": "stdout",
     "output_type": "stream",
     "text": [
      "Iter:  1  & Energy:  481727.8392561482\n",
      "Iter:  2  & Energy:  474239.33441937383\n",
      "Iter:  3  & Energy:  469770.02642840584\n",
      "Iter:  4  & Energy:  465593.0518069285\n",
      "Iter:  5  & Energy:  461437.2003824289\n",
      "Iter:  6  & Energy:  458400.50692892005\n",
      "Iter:  7  & Energy:  456892.09847017436\n",
      "Iter:  8  & Energy:  456129.94845004234\n",
      "Iter:  9  & Energy:  455743.3761687409\n",
      "Iter:  10  & Energy:  455539.64769744856\n",
      "Iter:  11  & Energy:  455402.4680453792\n",
      "Iter:  12  & Energy:  455317.279036559\n",
      "Iter:  13  & Energy:  455252.1844353519\n",
      "Iter:  14  & Energy:  455190.10174534033\n",
      "Iter:  15  & Energy:  455118.8722669243\n",
      "Iter:  16  & Energy:  455056.521989718\n",
      "Iter:  17  & Energy:  454972.8694049361\n",
      "Iter:  18  & Energy:  454888.629373247\n",
      "Iter:  19  & Energy:  454759.9746287354\n",
      "Iter:  20  & Energy:  454615.2415386454\n",
      "Iter:  21  & Energy:  454406.7186908886\n",
      "Iter:  22  & Energy:  454114.5546604468\n",
      "Iter:  23  & Energy:  453764.08640630497\n",
      "Iter:  24  & Energy:  453302.305393386\n",
      "Iter:  25  & Energy:  452838.9025268404\n",
      "Iter:  26  & Energy:  452357.8637899243\n",
      "Iter:  27  & Energy:  451864.7798693255\n",
      "Iter:  28  & Energy:  451264.7453440553\n",
      "Iter:  29  & Energy:  450548.9513122416\n",
      "Iter:  30  & Energy:  449909.2743073259\n",
      "Iter:  31  & Energy:  449522.1814886338\n",
      "Iter:  32  & Energy:  449239.49553563434\n",
      "Iter:  33  & Energy:  449005.70455337357\n",
      "Iter:  34  & Energy:  448817.71661245625\n",
      "Iter:  35  & Energy:  448683.3967577466\n",
      "Iter:  36  & Energy:  448564.75311446434\n",
      "Iter:  37  & Energy:  448468.6774593563\n",
      "Iter:  38  & Energy:  448382.5698384887\n",
      "Iter:  39  & Energy:  448307.70841899863\n",
      "Iter:  40  & Energy:  448269.64632189117\n",
      "Iter:  41  & Energy:  448253.08645943354\n",
      "Iter:  42  & Energy:  448245.0618997325\n",
      "Iter:  43  & Energy:  448240.4251388208\n",
      "Iter:  44  & Energy:  448236.15298169485\n",
      "Iter:  45  & Energy:  448233.3459005238\n",
      "Iter:  46  & Energy:  448232.1049640369\n",
      "Iter:  47  & Energy:  448231.2190989348\n",
      "Iter:  48  & Energy:  448230.8212532189\n",
      "Iter:  49  & Energy:  448230.42017002124\n",
      "Iter:  50  & Energy:  448230.35746381065\n"
     ]
    },
    {
     "data": {
      "image/png": "[encoded data removed]",
      "text/plain": [
       "<Figure size 432x288 with 4 Axes>"
      ]
     },
     "metadata": {},
     "output_type": "display_data"
    }
   ],
   "source": [
    "k_means(4)"
   ]
  },
  {
   "cell_type": "code",
   "execution_count": 14,
   "metadata": {},
   "outputs": [
    {
     "data": {
      "image/png": "[encoded data removed]",
      "text/plain": [
       "<Figure size 432x288 with 5 Axes>"
      ]
     },
     "metadata": {},
     "output_type": "display_data"
    },
    {
     "name": "stdout",
     "output_type": "stream",
     "text": [
      "Iter:  1  & Energy:  453197.66078474117\n",
      "Iter:  2  & Energy:  446265.7194169439\n",
      "Iter:  3  & Energy:  444230.9073569672\n",
      "Iter:  4  & Energy:  442612.07622038363\n",
      "Iter:  5  & Energy:  440964.1153880761\n",
      "Iter:  6  & Energy:  439470.88211030595\n",
      "Iter:  7  & Energy:  438225.63015757146\n",
      "Iter:  8  & Energy:  437337.75816643296\n",
      "Iter:  9  & Energy:  436688.71033597447\n",
      "Iter:  10  & Energy:  436159.9052618775\n",
      "Iter:  11  & Energy:  435641.5394147954\n",
      "Iter:  12  & Energy:  435117.39681533613\n",
      "Iter:  13  & Energy:  434554.3283538235\n",
      "Iter:  14  & Energy:  433944.0730698408\n",
      "Iter:  15  & Energy:  433405.9377133465\n",
      "Iter:  16  & Energy:  432954.21529475506\n",
      "Iter:  17  & Energy:  432657.05978515156\n",
      "Iter:  18  & Energy:  432466.818635154\n",
      "Iter:  19  & Energy:  432355.9924399566\n",
      "Iter:  20  & Energy:  432314.2142752114\n",
      "Iter:  21  & Energy:  432299.2821100238\n",
      "Iter:  22  & Energy:  432289.73754276754\n",
      "Iter:  23  & Energy:  432286.6908574218\n",
      "Iter:  24  & Energy:  432284.78904103744\n",
      "Iter:  25  & Energy:  432284.0118664811\n",
      "Iter:  26  & Energy:  432283.78224865976\n"
     ]
    },
    {
     "data": {
      "image/png": "[encoded data removed]",
      "text/plain": [
       "<Figure size 432x288 with 5 Axes>"
      ]
     },
     "metadata": {},
     "output_type": "display_data"
    }
   ],
   "source": [
    "k_means(5)"
   ]
  },
  {
   "cell_type": "markdown",
   "metadata": {},
   "source": [
    "Although k is much bigger than k=2, stil we can't tell that is good clustering."
   ]
  },
  {
   "cell_type": "code",
   "execution_count": 15,
   "metadata": {},
   "outputs": [
    {
     "data": {
      "image/png": "[encoded data removed]",
      "text/plain": [
       "<Figure size 432x288 with 6 Axes>"
      ]
     },
     "metadata": {},
     "output_type": "display_data"
    },
    {
     "name": "stdout",
     "output_type": "stream",
     "text": [
      "Iter:  1  & Energy:  431379.0122974147\n",
      "Iter:  2  & Energy:  425618.6185393748\n",
      "Iter:  3  & Energy:  424244.89724548993\n",
      "Iter:  4  & Energy:  423752.48981145857\n",
      "Iter:  5  & Energy:  423517.8109436064\n",
      "Iter:  6  & Energy:  423355.26348031557\n",
      "Iter:  7  & Energy:  423227.30034251814\n",
      "Iter:  8  & Energy:  423139.8804074069\n",
      "Iter:  9  & Energy:  423063.47435879736\n",
      "Iter:  10  & Energy:  422984.41465285065\n",
      "Iter:  11  & Energy:  422908.5174731895\n",
      "Iter:  12  & Energy:  422848.50616584916\n",
      "Iter:  13  & Energy:  422812.73647642514\n",
      "Iter:  14  & Energy:  422774.52731582266\n",
      "Iter:  15  & Energy:  422730.7907967787\n",
      "Iter:  16  & Energy:  422687.99748942856\n",
      "Iter:  17  & Energy:  422644.32777261286\n",
      "Iter:  18  & Energy:  422591.2258305145\n",
      "Iter:  19  & Energy:  422526.80158147076\n",
      "Iter:  20  & Energy:  422441.04449438327\n",
      "Iter:  21  & Energy:  422344.102608684\n",
      "Iter:  22  & Energy:  422234.5377569585\n",
      "Iter:  23  & Energy:  422089.3211384859\n",
      "Iter:  24  & Energy:  421897.5099984761\n",
      "Iter:  25  & Energy:  421676.31428844994\n",
      "Iter:  26  & Energy:  421467.23002460133\n",
      "Iter:  27  & Energy:  421263.1078435813\n",
      "Iter:  28  & Energy:  421084.4608453833\n",
      "Iter:  29  & Energy:  420881.58198872505\n",
      "Iter:  30  & Energy:  420718.8714659764\n",
      "Iter:  31  & Energy:  420589.63486175856\n",
      "Iter:  32  & Energy:  420485.65652524825\n",
      "Iter:  33  & Energy:  420414.398049958\n",
      "Iter:  34  & Energy:  420373.32669203944\n",
      "Iter:  35  & Energy:  420347.41632441845\n",
      "Iter:  36  & Energy:  420329.8558256299\n",
      "Iter:  37  & Energy:  420311.16893904214\n",
      "Iter:  38  & Energy:  420289.9765509849\n",
      "Iter:  39  & Energy:  420260.00371501624\n",
      "Iter:  40  & Energy:  420239.8340217912\n",
      "Iter:  41  & Energy:  420232.53758871206\n",
      "Iter:  42  & Energy:  420226.88355067367\n",
      "Iter:  43  & Energy:  420219.02250626514\n",
      "Iter:  44  & Energy:  420207.9090639535\n",
      "Iter:  45  & Energy:  420200.03531349363\n",
      "Iter:  46  & Energy:  420197.91582974955\n",
      "Iter:  47  & Energy:  420196.98615320446\n",
      "Iter:  48  & Energy:  420195.9330326874\n",
      "Iter:  49  & Energy:  420194.5656519569\n",
      "Iter:  50  & Energy:  420193.65143438417\n",
      "Iter:  51  & Energy:  420192.8091382402\n",
      "Iter:  52  & Energy:  420192.1164325567\n",
      "Iter:  53  & Energy:  420191.2939235608\n",
      "Iter:  54  & Energy:  420190.4834683685\n",
      "Iter:  55  & Energy:  420190.30117701634\n",
      "Iter:  56  & Energy:  420190.22504515736\n",
      "Iter:  57  & Energy:  420190.1852396935\n"
     ]
    },
    {
     "data": {
      "image/png": "[encoded data removed]",
      "text/plain": [
       "<Figure size 432x288 with 6 Axes>"
      ]
     },
     "metadata": {},
     "output_type": "display_data"
    }
   ],
   "source": [
    "k_means(6)"
   ]
  },
  {
   "cell_type": "code",
   "execution_count": 16,
   "metadata": {},
   "outputs": [
    {
     "data": {
      "image/png": "[encoded data removed]",
      "text/plain": [
       "<Figure size 432x288 with 7 Axes>"
      ]
     },
     "metadata": {},
     "output_type": "display_data"
    },
    {
     "name": "stdout",
     "output_type": "stream",
     "text": [
      "Iter:  1  & Energy:  441369.4732066819\n",
      "Iter:  2  & Energy:  430590.95385029045\n",
      "Iter:  3  & Energy:  426530.03753264964\n",
      "Iter:  4  & Energy:  422787.3988567071\n",
      "Iter:  5  & Energy:  419595.959160055\n",
      "Iter:  6  & Energy:  418125.66564312205\n",
      "Iter:  7  & Energy:  417519.337893581\n",
      "Iter:  8  & Energy:  417034.1671827589\n",
      "Iter:  9  & Energy:  416367.20244639757\n",
      "Iter:  10  & Energy:  415390.3364617552\n",
      "Iter:  11  & Energy:  413958.48226858664\n",
      "Iter:  12  & Energy:  412729.41475541407\n",
      "Iter:  13  & Energy:  412114.1458297913\n",
      "Iter:  14  & Energy:  411776.4641795949\n",
      "Iter:  15  & Energy:  411577.2932465257\n",
      "Iter:  16  & Energy:  411466.02563373494\n",
      "Iter:  17  & Energy:  411404.09125579963\n",
      "Iter:  18  & Energy:  411366.4787701266\n",
      "Iter:  19  & Energy:  411343.4035881605\n",
      "Iter:  20  & Energy:  411318.1085922824\n",
      "Iter:  21  & Energy:  411297.0132717604\n",
      "Iter:  22  & Energy:  411282.90431939415\n",
      "Iter:  23  & Energy:  411270.47103614983\n",
      "Iter:  24  & Energy:  411259.43747556297\n",
      "Iter:  25  & Energy:  411254.07458903955\n",
      "Iter:  26  & Energy:  411249.0900103287\n",
      "Iter:  27  & Energy:  411244.12060546735\n",
      "Iter:  28  & Energy:  411242.03652042744\n",
      "Iter:  29  & Energy:  411241.2111621121\n",
      "Iter:  30  & Energy:  411241.05116966355\n",
      "Iter:  31  & Energy:  411240.74154556467\n",
      "Iter:  32  & Energy:  411240.5520004364\n",
      "Iter:  33  & Energy:  411240.2922864607\n",
      "Iter:  34  & Energy:  411240.0417442266\n",
      "Iter:  35  & Energy:  411239.73474382557\n",
      "Iter:  36  & Energy:  411239.3699139464\n",
      "Iter:  37  & Energy:  411239.27923616953\n",
      "Iter:  38  & Energy:  411238.9545820408\n",
      "Iter:  39  & Energy:  411238.3717134266\n",
      "Iter:  40  & Energy:  411237.87823344115\n",
      "Iter:  41  & Energy:  411237.7279217084\n"
     ]
    },
    {
     "data": {
      "image/png": "[encoded data removed]",
      "text/plain": [
       "<Figure size 432x288 with 7 Axes>"
      ]
     },
     "metadata": {},
     "output_type": "display_data"
    }
   ],
   "source": [
    "k_means(7)"
   ]
  },
  {
   "cell_type": "code",
   "execution_count": 17,
   "metadata": {},
   "outputs": [
    {
     "data": {
      "image/png": "[encoded data removed]",
      "text/plain": [
       "<Figure size 432x288 with 8 Axes>"
      ]
     },
     "metadata": {},
     "output_type": "display_data"
    },
    {
     "name": "stdout",
     "output_type": "stream",
     "text": [
      "Iter:  1  & Energy:  435353.5136607683\n",
      "Iter:  2  & Energy:  421416.73136179853\n",
      "Iter:  3  & Energy:  416324.43984678737\n",
      "Iter:  4  & Energy:  412889.85338557087\n",
      "Iter:  5  & Energy:  411002.996657156\n",
      "Iter:  6  & Energy:  410268.32103964617\n",
      "Iter:  7  & Energy:  409870.9451822136\n",
      "Iter:  8  & Energy:  409587.28157724295\n",
      "Iter:  9  & Energy:  409360.3368975232\n",
      "Iter:  10  & Energy:  409218.2293921035\n",
      "Iter:  11  & Energy:  409100.65052645904\n",
      "Iter:  12  & Energy:  409035.2407205957\n",
      "Iter:  13  & Energy:  408971.99855951633\n",
      "Iter:  14  & Energy:  408918.46616139886\n",
      "Iter:  15  & Energy:  408885.6007815107\n",
      "Iter:  16  & Energy:  408860.0990456538\n",
      "Iter:  17  & Energy:  408847.8202893133\n",
      "Iter:  18  & Energy:  408837.60913278285\n",
      "Iter:  19  & Energy:  408825.7661663122\n",
      "Iter:  20  & Energy:  408818.527654588\n",
      "Iter:  21  & Energy:  408813.24382852565\n",
      "Iter:  22  & Energy:  408807.88594092143\n",
      "Iter:  23  & Energy:  408803.4774250088\n",
      "Iter:  24  & Energy:  408801.58770126896\n",
      "Iter:  25  & Energy:  408798.6367895905\n",
      "Iter:  26  & Energy:  408794.21586127364\n",
      "Iter:  27  & Energy:  408791.4390598762\n",
      "Iter:  28  & Energy:  408788.79106831155\n",
      "Iter:  29  & Energy:  408786.9970537205\n",
      "Iter:  30  & Energy:  408785.89995080204\n",
      "Iter:  31  & Energy:  408785.31936322304\n",
      "Iter:  32  & Energy:  408785.08401190036\n",
      "Iter:  33  & Energy:  408784.80169865105\n",
      "Iter:  34  & Energy:  408784.6785890563\n",
      "Iter:  35  & Energy:  408784.29963269277\n",
      "Iter:  36  & Energy:  408783.60515048646\n",
      "Iter:  37  & Energy:  408782.7109854351\n",
      "Iter:  38  & Energy:  408781.22929252905\n",
      "Iter:  39  & Energy:  408779.0832250611\n",
      "Iter:  40  & Energy:  408776.9115618437\n",
      "Iter:  41  & Energy:  408775.9617690922\n",
      "Iter:  42  & Energy:  408773.92375755636\n",
      "Iter:  43  & Energy:  408771.69729569374\n",
      "Iter:  44  & Energy:  408769.478334363\n",
      "Iter:  45  & Energy:  408766.944422556\n",
      "Iter:  46  & Energy:  408765.7016358568\n",
      "Iter:  47  & Energy:  408763.2348312776\n",
      "Iter:  48  & Energy:  408761.6593697846\n",
      "Iter:  49  & Energy:  408758.9402701809\n",
      "Iter:  50  & Energy:  408756.42620111426\n",
      "Iter:  51  & Energy:  408753.4333461075\n",
      "Iter:  52  & Energy:  408751.5329590999\n",
      "Iter:  53  & Energy:  408750.1276669587\n",
      "Iter:  54  & Energy:  408748.60096542776\n",
      "Iter:  55  & Energy:  408746.19307869236\n",
      "Iter:  56  & Energy:  408744.1651067176\n",
      "Iter:  57  & Energy:  408740.75355233945\n",
      "Iter:  58  & Energy:  408734.27083953825\n",
      "Iter:  59  & Energy:  408723.759331248\n",
      "Iter:  60  & Energy:  408709.9767522182\n",
      "Iter:  61  & Energy:  408698.6778302477\n",
      "Iter:  62  & Energy:  408682.36123914004\n",
      "Iter:  63  & Energy:  408666.2817814076\n",
      "Iter:  64  & Energy:  408651.6017917632\n",
      "Iter:  65  & Energy:  408635.43337183504\n",
      "Iter:  66  & Energy:  408619.94043446257\n",
      "Iter:  67  & Energy:  408604.0070365668\n",
      "Iter:  68  & Energy:  408585.56882174395\n",
      "Iter:  69  & Energy:  408574.96485296416\n",
      "Iter:  70  & Energy:  408564.063690689\n",
      "Iter:  71  & Energy:  408544.33654424857\n",
      "Iter:  72  & Energy:  408515.022102769\n",
      "Iter:  73  & Energy:  408488.87362522533\n",
      "Iter:  74  & Energy:  408466.89331840543\n",
      "Iter:  75  & Energy:  408444.7442344371\n",
      "Iter:  76  & Energy:  408411.5817329532\n",
      "Iter:  77  & Energy:  408369.97674737155\n",
      "Iter:  78  & Energy:  408319.4165187494\n",
      "Iter:  79  & Energy:  408248.97555275273\n",
      "Iter:  80  & Energy:  408157.11908535444\n",
      "Iter:  81  & Energy:  408022.135401098\n",
      "Iter:  82  & Energy:  407806.6681820317\n",
      "Iter:  83  & Energy:  407437.6373745418\n",
      "Iter:  84  & Energy:  406962.76025135175\n",
      "Iter:  85  & Energy:  406429.93445692636\n",
      "Iter:  86  & Energy:  405971.60115159996\n",
      "Iter:  87  & Energy:  405607.3603626096\n",
      "Iter:  88  & Energy:  405353.92752955813\n",
      "Iter:  89  & Energy:  405179.7117030071\n",
      "Iter:  90  & Energy:  405047.91435775766\n",
      "Iter:  91  & Energy:  404934.027329193\n",
      "Iter:  92  & Energy:  404835.47782939865\n",
      "Iter:  93  & Energy:  404736.8084199897\n",
      "Iter:  94  & Energy:  404647.94568412943\n",
      "Iter:  95  & Energy:  404584.3083044918\n",
      "Iter:  96  & Energy:  404538.74025206367\n",
      "Iter:  97  & Energy:  404512.86205342395\n",
      "Iter:  98  & Energy:  404493.991104704\n",
      "Iter:  99  & Energy:  404479.68391067965\n",
      "Iter:  100  & Energy:  404465.21434880147\n",
      "Iter:  101  & Energy:  404453.1344142958\n",
      "Iter:  102  & Energy:  404434.61081575986\n",
      "Iter:  103  & Energy:  404421.7504506172\n",
      "Iter:  104  & Energy:  404410.37958203565\n",
      "Iter:  105  & Energy:  404398.4671355112\n",
      "Iter:  106  & Energy:  404385.55707105657\n",
      "Iter:  107  & Energy:  404378.98517144506\n",
      "Iter:  108  & Energy:  404373.02770081995\n",
      "Iter:  109  & Energy:  404370.1765296238\n",
      "Iter:  110  & Energy:  404368.7206963198\n",
      "Iter:  111  & Energy:  404367.4311231186\n",
      "Iter:  112  & Energy:  404366.5440401771\n",
      "Iter:  113  & Energy:  404366.15788515855\n"
     ]
    },
    {
     "data": {
      "image/png": "[encoded data removed]",
      "text/plain": [
       "<Figure size 432x288 with 8 Axes>"
      ]
     },
     "metadata": {},
     "output_type": "display_data"
    }
   ],
   "source": [
    "k_means(8)"
   ]
  },
  {
   "cell_type": "code",
   "execution_count": 18,
   "metadata": {},
   "outputs": [
    {
     "data": {
      "image/png": "[encoded data removed]",
      "text/plain": [
       "<Figure size 432x288 with 9 Axes>"
      ]
     },
     "metadata": {},
     "output_type": "display_data"
    },
    {
     "name": "stdout",
     "output_type": "stream",
     "text": [
      "Iter:  1  & Energy:  435254.2938407262\n",
      "Iter:  2  & Energy:  417567.3829882291\n",
      "Iter:  3  & Energy:  409280.31659279566\n",
      "Iter:  4  & Energy:  405133.3841348033\n",
      "Iter:  5  & Energy:  402582.10386770434\n",
      "Iter:  6  & Energy:  401026.6189378817\n",
      "Iter:  7  & Energy:  400207.7963733028\n",
      "Iter:  8  & Energy:  399795.9147393042\n",
      "Iter:  9  & Energy:  399552.64746705664\n",
      "Iter:  10  & Energy:  399416.3135800789\n",
      "Iter:  11  & Energy:  399305.9142934744\n",
      "Iter:  12  & Energy:  399189.1715944581\n",
      "Iter:  13  & Energy:  399081.94865815906\n",
      "Iter:  14  & Energy:  399006.2679102212\n",
      "Iter:  15  & Energy:  398929.50741755246\n",
      "Iter:  16  & Energy:  398849.4682366529\n",
      "Iter:  17  & Energy:  398775.19058541243\n",
      "Iter:  18  & Energy:  398677.2218882676\n",
      "Iter:  19  & Energy:  398569.864685256\n",
      "Iter:  20  & Energy:  398476.6827148266\n",
      "Iter:  21  & Energy:  398430.6747422861\n",
      "Iter:  22  & Energy:  398372.6808863982\n",
      "Iter:  23  & Energy:  398325.86835893145\n",
      "Iter:  24  & Energy:  398291.1620323096\n",
      "Iter:  25  & Energy:  398248.310659186\n",
      "Iter:  26  & Energy:  398214.2598737541\n",
      "Iter:  27  & Energy:  398196.76948410587\n",
      "Iter:  28  & Energy:  398179.21957830095\n",
      "Iter:  29  & Energy:  398158.81319830375\n",
      "Iter:  30  & Energy:  398141.3761107723\n",
      "Iter:  31  & Energy:  398126.0906984229\n",
      "Iter:  32  & Energy:  398110.57573174837\n",
      "Iter:  33  & Energy:  398098.18315663264\n",
      "Iter:  34  & Energy:  398084.61483802\n",
      "Iter:  35  & Energy:  398067.4798506326\n",
      "Iter:  36  & Energy:  398058.14781728695\n",
      "Iter:  37  & Energy:  398049.958900537\n",
      "Iter:  38  & Energy:  398044.9939086398\n",
      "Iter:  39  & Energy:  398040.90057572885\n",
      "Iter:  40  & Energy:  398038.2078164279\n",
      "Iter:  41  & Energy:  398036.34854380874\n",
      "Iter:  42  & Energy:  398035.55237764167\n",
      "Iter:  43  & Energy:  398035.0265375434\n",
      "Iter:  44  & Energy:  398034.39529870177\n",
      "Iter:  45  & Energy:  398033.9654092028\n",
      "Iter:  46  & Energy:  398033.73263118777\n",
      "Iter:  47  & Energy:  398033.6269752825\n",
      "Iter:  48  & Energy:  398033.42728179926\n"
     ]
    },
    {
     "data": {
      "image/png": "[encoded data removed]",
      "text/plain": [
       "<Figure size 432x288 with 9 Axes>"
      ]
     },
     "metadata": {},
     "output_type": "display_data"
    }
   ],
   "source": [
    "k_means(9)"
   ]
  },
  {
   "cell_type": "code",
   "execution_count": 21,
   "metadata": {},
   "outputs": [
    {
     "data": {
      "image/png": "[encoded data removed]",
      "text/plain": [
       "<Figure size 432x288 with 10 Axes>"
      ]
     },
     "metadata": {},
     "output_type": "display_data"
    },
    {
     "name": "stdout",
     "output_type": "stream",
     "text": [
      "Iter:  1  & Energy:  414926.41958721884\n",
      "Iter:  2  & Energy:  400704.1492578523\n",
      "Iter:  3  & Energy:  396418.15073701565\n",
      "Iter:  4  & Energy:  394834.9146623979\n",
      "Iter:  5  & Energy:  394240.5191531714\n",
      "Iter:  6  & Energy:  393958.30335304205\n",
      "Iter:  7  & Energy:  393806.06708153273\n",
      "Iter:  8  & Energy:  393702.1317819628\n",
      "Iter:  9  & Energy:  393632.73039570544\n",
      "Iter:  10  & Energy:  393561.69299367775\n",
      "Iter:  11  & Energy:  393488.86455910874\n",
      "Iter:  12  & Energy:  393405.0391005762\n",
      "Iter:  13  & Energy:  393330.9303187796\n",
      "Iter:  14  & Energy:  393254.3062498745\n",
      "Iter:  15  & Energy:  393198.83931796224\n",
      "Iter:  16  & Energy:  393168.174602458\n",
      "Iter:  17  & Energy:  393142.0512975813\n",
      "Iter:  18  & Energy:  393124.0924257433\n",
      "Iter:  19  & Energy:  393113.11100499326\n",
      "Iter:  20  & Energy:  393103.8578557945\n",
      "Iter:  21  & Energy:  393092.3789304392\n",
      "Iter:  22  & Energy:  393079.8420527198\n",
      "Iter:  23  & Energy:  393069.14346800256\n",
      "Iter:  24  & Energy:  393061.26345311996\n",
      "Iter:  25  & Energy:  393055.21803359553\n",
      "Iter:  26  & Energy:  393051.59542185516\n",
      "Iter:  27  & Energy:  393047.868539233\n",
      "Iter:  28  & Energy:  393046.1044569399\n",
      "Iter:  29  & Energy:  393044.3902525685\n",
      "Iter:  30  & Energy:  393042.3063495353\n",
      "Iter:  31  & Energy:  393038.9733463976\n",
      "Iter:  32  & Energy:  393035.682935363\n",
      "Iter:  33  & Energy:  393033.8506278274\n",
      "Iter:  34  & Energy:  393032.6401998789\n",
      "Iter:  35  & Energy:  393031.8662295271\n",
      "Iter:  36  & Energy:  393031.38854988833\n",
      "Iter:  37  & Energy:  393031.0949284747\n",
      "Iter:  38  & Energy:  393030.95726803143\n"
     ]
    },
    {
     "data": {
      "image/png": "[encoded data removed]",
      "text/plain": [
       "<Figure size 432x288 with 10 Axes>"
      ]
     },
     "metadata": {},
     "output_type": "display_data"
    },
    {
     "name": "stdout",
     "output_type": "stream",
     "text": [
      "accuracy:  51.61\n"
     ]
    }
   ],
   "source": [
    "k_means(10)"
   ]
  },
  {
   "cell_type": "markdown",
   "metadata": {},
   "source": [
    "More and more k, the final energy is lower. But the result is disappointing. About this result(accuracy is 51.61), I think that the initial value is important and recognizing image is very hard. Maybe I need some other solution for this."
   ]
  },
  {
   "cell_type": "code",
   "execution_count": null,
   "metadata": {},
   "outputs": [],
   "source": []
  }
 ],
 "metadata": {
  "kernelspec": {
   "display_name": "Python 3",
   "language": "python",
   "name": "python3"
  },
  "language_info": {
   "codemirror_mode": {
    "name": "ipython",
    "version": 3
   },
   "file_extension": ".py",
   "mimetype": "text/x-python",
   "name": "python",
   "nbconvert_exporter": "python",
   "pygments_lexer": "ipython3",
   "version": "3.6.5"
  }
 },
 "nbformat": 4,
 "nbformat_minor": 2
}
